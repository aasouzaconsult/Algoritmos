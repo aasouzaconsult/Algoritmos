{
  "nbformat": 4,
  "nbformat_minor": 0,
  "metadata": {
    "colab": {
      "name": "Live#14 - Python Para Data Science.ipynb",
      "provenance": [],
      "collapsed_sections": [
        "jsIqrBbsRlNk",
        "CBfweO4OVqau"
      ]
    },
    "kernelspec": {
      "name": "python3",
      "display_name": "Python 3"
    }
  },
  "cells": [
    {
      "cell_type": "markdown",
      "metadata": {
        "id": "C16mAwg2RI3x",
        "colab_type": "text"
      },
      "source": [
        "### **Dicas de Ouro**\n",
        "\n",
        "1.   Você não precisa estudar orientação a objetos.\n",
        "\n",
        "2.   Encare a linguagem como uma Ferramenta.\n",
        "    - *Não estude para ser um programador.*\n",
        "3.   O foco não deve ser a tecnologia, pois, ela muda.\n",
        "    - *Hoje é Python, amanhã será o que? julia? Java?*\n",
        "4.   Pense simples e evite refazer a roda.\n",
        "    - *Use as bibliotecas certas e evite catástrofes.*\n",
        "5.   Documente todo o seu trabalho.\n",
        "    - *Organização gera clareza e consequentemente mais produtividade.*\n",
        "\n"
      ]
    },
    {
      "cell_type": "markdown",
      "metadata": {
        "id": "jsIqrBbsRlNk",
        "colab_type": "text"
      },
      "source": [
        "### **Estruturas de dados**"
      ]
    },
    {
      "cell_type": "markdown",
      "metadata": {
        "id": "y_6gapc2Rs2v",
        "colab_type": "text"
      },
      "source": [
        "\n",
        "*   Listas\n",
        "*   Strings\n",
        "\n",
        "\n"
      ]
    },
    {
      "cell_type": "markdown",
      "metadata": {
        "id": "GQ5HQnlGA1wR",
        "colab_type": "text"
      },
      "source": [
        "**Listas**"
      ]
    },
    {
      "cell_type": "code",
      "metadata": {
        "id": "tOQ2hAAoAwzY",
        "colab_type": "code",
        "colab": {}
      },
      "source": [
        "# cria a lista lista_frutas\n",
        "lista_frutas = [\"apple\", \"banana\", \"cherry\", \"orange\", \"kiwi\", \"melon\", \"mango\"]"
      ],
      "execution_count": 0,
      "outputs": []
    },
    {
      "cell_type": "code",
      "metadata": {
        "id": "2XwTjXLPAw7j",
        "colab_type": "code",
        "colab": {}
      },
      "source": [
        "# imprime a lista\n",
        "lista_frutas"
      ],
      "execution_count": 0,
      "outputs": []
    },
    {
      "cell_type": "code",
      "metadata": {
        "id": "BslbAZzN7g9E",
        "colab_type": "code",
        "colab": {}
      },
      "source": [
        "# imprime o tipo da variável lista_frutas\n",
        "type(lista_frutas)"
      ],
      "execution_count": 0,
      "outputs": []
    },
    {
      "cell_type": "code",
      "metadata": {
        "id": "N73CVH0kAw-g",
        "colab_type": "code",
        "colab": {}
      },
      "source": [
        "# imprime o primeiro elemento da lista\n",
        "lista_frutas[0]"
      ],
      "execution_count": 0,
      "outputs": []
    },
    {
      "cell_type": "code",
      "metadata": {
        "id": "WhEgNqMXAxBE",
        "colab_type": "code",
        "colab": {}
      },
      "source": [
        "# imprime o segundo elemento da lista\n",
        "lista_frutas[1]"
      ],
      "execution_count": 0,
      "outputs": []
    },
    {
      "cell_type": "code",
      "metadata": {
        "id": "3hwNcc-yBGUi",
        "colab_type": "code",
        "colab": {}
      },
      "source": [
        "# percorre os elementos da posicao 2 a 6\n",
        "lista_frutas[2:7]"
      ],
      "execution_count": 0,
      "outputs": []
    },
    {
      "cell_type": "code",
      "metadata": {
        "id": "s2vDR4rMBGcW",
        "colab_type": "code",
        "colab": {}
      },
      "source": [
        "# atualiza o elemento na posicao 1\n",
        "lista_frutas[1]='tomator'"
      ],
      "execution_count": 0,
      "outputs": []
    },
    {
      "cell_type": "code",
      "metadata": {
        "id": "4I9KUr8BBGfW",
        "colab_type": "code",
        "colab": {}
      },
      "source": [
        "# imprime a lista lista_frutas\n",
        "lista_frutas"
      ],
      "execution_count": 0,
      "outputs": []
    },
    {
      "cell_type": "code",
      "metadata": {
        "id": "BppxwDOPBGiK",
        "colab_type": "code",
        "colab": {}
      },
      "source": [
        "# Checa se um elemento exista na lista\n",
        "if \"hajdhfjad\" in lista_frutas:\n",
        "  print(\"Existe a fruta tomator\")"
      ],
      "execution_count": 0,
      "outputs": []
    },
    {
      "cell_type": "code",
      "metadata": {
        "id": "cpWjlLibBGm4",
        "colab_type": "code",
        "colab": {}
      },
      "source": [
        "# Inseri na terceira posição 2 da lista o elemnto orange\n",
        "lista_frutas.insert(2,'orange')"
      ],
      "execution_count": 0,
      "outputs": []
    },
    {
      "cell_type": "code",
      "metadata": {
        "id": "UgXlohThBGw9",
        "colab_type": "code",
        "colab": {}
      },
      "source": [
        "# imprime a lista\n",
        "lista_frutas"
      ],
      "execution_count": 0,
      "outputs": []
    },
    {
      "cell_type": "code",
      "metadata": {
        "id": "2h-gSCKQCTiz",
        "colab_type": "code",
        "colab": {}
      },
      "source": [
        "# Adiciona um elemento ao final da lista\n",
        "lista_frutas.append(\"banana\")"
      ],
      "execution_count": 0,
      "outputs": []
    },
    {
      "cell_type": "code",
      "metadata": {
        "id": "10Ih7xRhCTmL",
        "colab_type": "code",
        "colab": {}
      },
      "source": [
        "# imprime a lista lista_frutas\n",
        "lista_frutas"
      ],
      "execution_count": 0,
      "outputs": []
    },
    {
      "cell_type": "markdown",
      "metadata": {
        "id": "CUsFaDb2BHE9",
        "colab_type": "text"
      },
      "source": [
        "**Strings**"
      ]
    },
    {
      "cell_type": "code",
      "metadata": {
        "id": "WJccNAo0ftd7",
        "colab_type": "code",
        "colab": {}
      },
      "source": [
        "# cria a variável nome\n",
        "nome = 'A casa é bonita'"
      ],
      "execution_count": 0,
      "outputs": []
    },
    {
      "cell_type": "code",
      "metadata": {
        "id": "LH512_7Gf1dp",
        "colab_type": "code",
        "colab": {}
      },
      "source": [
        "# imprime o conteúdo da variável nome\n",
        "nome"
      ],
      "execution_count": 0,
      "outputs": []
    },
    {
      "cell_type": "code",
      "metadata": {
        "id": "IAvJUQ8BgJEu",
        "colab_type": "code",
        "colab": {}
      },
      "source": [
        "# imprime o tipo da variável nome\n",
        "type(nome)"
      ],
      "execution_count": 0,
      "outputs": []
    },
    {
      "cell_type": "code",
      "metadata": {
        "id": "ZRY6oi99f4Y5",
        "colab_type": "code",
        "colab": {}
      },
      "source": [
        "# imprime o primeiro elemento da string nome\n",
        "nome[0]"
      ],
      "execution_count": 0,
      "outputs": []
    },
    {
      "cell_type": "code",
      "metadata": {
        "id": "YNIrmIGTf4mA",
        "colab_type": "code",
        "colab": {}
      },
      "source": [
        "# percorre os elemntos da string (caracteres)\n",
        "nome[0:7]"
      ],
      "execution_count": 0,
      "outputs": []
    },
    {
      "cell_type": "markdown",
      "metadata": {
        "id": "B1Vf3rCZgTHs",
        "colab_type": "text"
      },
      "source": [
        "**Objeto string - Métodos úteis**"
      ]
    },
    {
      "cell_type": "code",
      "metadata": {
        "id": "jS5-htYIARzA",
        "colab_type": "code",
        "colab": {}
      },
      "source": [
        "nome"
      ],
      "execution_count": 0,
      "outputs": []
    },
    {
      "cell_type": "code",
      "metadata": {
        "id": "zE6O4D2-gcu1",
        "colab_type": "code",
        "colab": {}
      },
      "source": [
        "# coloca a primeira letra da frase em maiusculo\n",
        "nome.capitalize()"
      ],
      "execution_count": 0,
      "outputs": []
    },
    {
      "cell_type": "code",
      "metadata": {
        "id": "IWv_uIoDgc0D",
        "colab_type": "code",
        "colab": {}
      },
      "source": [
        "# coloca toda a string em minusculo\n",
        "nome.lower()"
      ],
      "execution_count": 0,
      "outputs": []
    },
    {
      "cell_type": "code",
      "metadata": {
        "id": "u_zpjhIWgc3E",
        "colab_type": "code",
        "colab": {}
      },
      "source": [
        "# conta a quantidade de ocorrências do caracter a\n",
        "nome.count('a')"
      ],
      "execution_count": 0,
      "outputs": []
    },
    {
      "cell_type": "code",
      "metadata": {
        "id": "7pP0aybKgcx2",
        "colab_type": "code",
        "colab": {}
      },
      "source": [
        "# encontra a posição da palavra bonita\n",
        "nome.find('bonita')"
      ],
      "execution_count": 0,
      "outputs": []
    },
    {
      "cell_type": "code",
      "metadata": {
        "id": "v-ZuQbEEgvAY",
        "colab_type": "code",
        "colab": {}
      },
      "source": [
        "# substitui espacos por underlines\n",
        "nome.replace(' ','_')"
      ],
      "execution_count": 0,
      "outputs": []
    },
    {
      "cell_type": "code",
      "metadata": {
        "id": "qlTOjv9VEe24",
        "colab_type": "code",
        "colab": {}
      },
      "source": [
        "# Encadeiando métodos replace\n",
        "'a casa é bonita....,,,,###!!!'.replace('.','').replace(',','').replace('!','').replace('#','')"
      ],
      "execution_count": 0,
      "outputs": []
    },
    {
      "cell_type": "code",
      "metadata": {
        "id": "DcvDHGgugvDj",
        "colab_type": "code",
        "colab": {}
      },
      "source": [
        "# Checa se um caracter é um dígito\n",
        "nome.isdigit()"
      ],
      "execution_count": 0,
      "outputs": []
    },
    {
      "cell_type": "code",
      "metadata": {
        "id": "xGWDpZmdg-3h",
        "colab_type": "code",
        "colab": {}
      },
      "source": [
        "# Checa se um caracter é um dígito\n",
        "'1'.isdigit()"
      ],
      "execution_count": 0,
      "outputs": []
    },
    {
      "cell_type": "code",
      "metadata": {
        "id": "RZt3-nUxhD9y",
        "colab_type": "code",
        "colab": {}
      },
      "source": [
        "# Checa se um caracter é um dígito\n",
        "'a'.isdigit()"
      ],
      "execution_count": 0,
      "outputs": []
    },
    {
      "cell_type": "code",
      "metadata": {
        "id": "ORIQsYemEZVr",
        "colab_type": "code",
        "colab": {}
      },
      "source": [
        "# Quebra em palavras uma string separando por espaços\n",
        "nome.split()"
      ],
      "execution_count": 0,
      "outputs": []
    },
    {
      "cell_type": "markdown",
      "metadata": {
        "id": "9skPVAXsFKX0",
        "colab_type": "text"
      },
      "source": [
        "**Exemplo de uso em data cleaning para textos**\n",
        "- Live Sobre Análise de Sentimentos"
      ]
    },
    {
      "cell_type": "code",
      "metadata": {
        "id": "koJwLiFzD5Dt",
        "colab_type": "code",
        "colab": {}
      },
      "source": [
        "def Limpeza_dados(instancia):\n",
        "    # remove links, pontos, virgulas,ponto e virgulas dos tweets\n",
        "    instancia = re.sub(r\"http\\S+\", \"\", instancia).lower().replace('.','').replace(';','').replace('-','').replace(':','').replace(')','')\n",
        "    return (instancia)"
      ],
      "execution_count": 0,
      "outputs": []
    },
    {
      "cell_type": "code",
      "metadata": {
        "id": "zl0oIzp4D5Gm",
        "colab_type": "code",
        "colab": {}
      },
      "source": [
        "def RemoveStopWords(instancia):\n",
        "    stopwords = set(nltk.corpus.stopwords.words('portuguese'))\n",
        "    palavras = [i for i in instancia.split() if not i in stopwords]\n",
        "    return (\" \".join(palavras))"
      ],
      "execution_count": 0,
      "outputs": []
    },
    {
      "cell_type": "markdown",
      "metadata": {
        "id": "CBfweO4OVqau",
        "colab_type": "text"
      },
      "source": [
        "### **Numpy Vs Listas Python**"
      ]
    },
    {
      "cell_type": "markdown",
      "metadata": {
        "id": "5HxyGIGWV8vC",
        "colab_type": "text"
      },
      "source": [
        "- Arrays Numpy permitem fazermos operações em arrays inteiros de forma **rápida**.\n",
        "- Para operações em todos os elementos é preciso interar sobre toda a lista.\n",
        "- Listas em Python armazenam diferentes **tipos** de objetos.\n",
        "- Arrays Numpy considera todos os elementos de tipos distintos como **strings**."
      ]
    },
    {
      "cell_type": "code",
      "metadata": {
        "id": "j6C-qD-3VbY4",
        "colab_type": "code",
        "colab": {}
      },
      "source": [
        "# Criando uma lista em Python.\n",
        "lista = [1,2,3]"
      ],
      "execution_count": 0,
      "outputs": []
    },
    {
      "cell_type": "code",
      "metadata": {
        "id": "xVb7YjKTVbY6",
        "colab_type": "code",
        "colab": {}
      },
      "source": [
        "lista"
      ],
      "execution_count": 0,
      "outputs": []
    },
    {
      "cell_type": "code",
      "metadata": {
        "id": "bRz13l5eVbY9",
        "colab_type": "code",
        "colab": {}
      },
      "source": [
        "# Multiplicar valores da lista por 2.\n",
        "lista * 2"
      ],
      "execution_count": 0,
      "outputs": []
    },
    {
      "cell_type": "code",
      "metadata": {
        "id": "YVUzA09xvQiC",
        "colab_type": "code",
        "colab": {}
      },
      "source": [
        "# importa a biblioteca numpy\n",
        "import numpy as np"
      ],
      "execution_count": 0,
      "outputs": []
    },
    {
      "cell_type": "code",
      "metadata": {
        "id": "8NhYjU97VbZA",
        "colab_type": "code",
        "colab": {}
      },
      "source": [
        "# Transforme a variável lista em um array Numpy\n",
        "lista = np.array(lista)"
      ],
      "execution_count": 0,
      "outputs": []
    },
    {
      "cell_type": "code",
      "metadata": {
        "id": "w6V8DJc6VbZC",
        "colab_type": "code",
        "colab": {}
      },
      "source": [
        "# Imprimindo o tipo do objeto.\n",
        "type(lista)"
      ],
      "execution_count": 0,
      "outputs": []
    },
    {
      "cell_type": "code",
      "metadata": {
        "id": "LhgGjWOKVbZF",
        "colab_type": "code",
        "colab": {}
      },
      "source": [
        "# Multiplicando cada elemento por 2.\n",
        "lista * 2"
      ],
      "execution_count": 0,
      "outputs": []
    },
    {
      "cell_type": "code",
      "metadata": {
        "id": "8ie9ZgcuVbZH",
        "colab_type": "code",
        "colab": {}
      },
      "source": [
        "# Calcular IMC de pessoas.\n",
        "pesos = [67,81,120,90]\n",
        "altura = [1.68,1.70,1.75,1.85]"
      ],
      "execution_count": 0,
      "outputs": []
    },
    {
      "cell_type": "code",
      "metadata": {
        "id": "4BvXUFStVbZJ",
        "colab_type": "code",
        "colab": {}
      },
      "source": [
        "# Faz o calculo usando as listas\n",
        "pesos / altura ** 2"
      ],
      "execution_count": 0,
      "outputs": []
    },
    {
      "cell_type": "code",
      "metadata": {
        "id": "cyNLyAyBIXRC",
        "colab_type": "code",
        "colab": {}
      },
      "source": [
        "# Faça um loop em cada lista calcule os valores..\n"
      ],
      "execution_count": 0,
      "outputs": []
    },
    {
      "cell_type": "code",
      "metadata": {
        "id": "rh7bzQViVbZL",
        "colab_type": "code",
        "colab": {}
      },
      "source": [
        "# Transforme isso em arrays numpy\n",
        "pesos = np.array(pesos)\n",
        "altura = np.array(altura)"
      ],
      "execution_count": 0,
      "outputs": []
    },
    {
      "cell_type": "code",
      "metadata": {
        "id": "FW624Y1EVbZT",
        "colab_type": "code",
        "colab": {}
      },
      "source": [
        "# Imprime o calculo de cada valor\n",
        "pesos / altura **2"
      ],
      "execution_count": 0,
      "outputs": []
    },
    {
      "cell_type": "code",
      "metadata": {
        "id": "vv2DagYKVbZX",
        "colab_type": "code",
        "colab": {}
      },
      "source": [
        "# Arrays Numpy armazena elementos como strins quando estes não são inteiros ou float\n",
        "a = np.array([1,3,'Casa',True])"
      ],
      "execution_count": 0,
      "outputs": []
    },
    {
      "cell_type": "code",
      "metadata": {
        "id": "Cnad25iYVbZZ",
        "colab_type": "code",
        "colab": {}
      },
      "source": [
        "a"
      ],
      "execution_count": 0,
      "outputs": []
    },
    {
      "cell_type": "code",
      "metadata": {
        "id": "noKyItQWVbZc",
        "colab_type": "code",
        "colab": {}
      },
      "source": [
        "a * 2 "
      ],
      "execution_count": 0,
      "outputs": []
    },
    {
      "cell_type": "markdown",
      "metadata": {
        "id": "R_kNjzkIhwm6",
        "colab_type": "text"
      },
      "source": [
        "### **Trabalhando com Loops**"
      ]
    },
    {
      "cell_type": "markdown",
      "metadata": {
        "id": "Lt86NNmdYEos",
        "colab_type": "text"
      },
      "source": [
        "**Instrucao for**"
      ]
    },
    {
      "cell_type": "code",
      "metadata": {
        "id": "C5DtyJlfXO0J",
        "colab_type": "code",
        "colab": {}
      },
      "source": [
        "# for cada_elemento na lista:\n",
        "#   faca_algo"
      ],
      "execution_count": 0,
      "outputs": []
    },
    {
      "cell_type": "code",
      "metadata": {
        "id": "yfAckAoKGEV0",
        "colab_type": "code",
        "colab": {}
      },
      "source": [
        "nome"
      ],
      "execution_count": 0,
      "outputs": []
    },
    {
      "cell_type": "code",
      "metadata": {
        "id": "kqxqbunOhrVU",
        "colab_type": "code",
        "colab": {}
      },
      "source": [
        "for n in nome:\n",
        "  #print (n.isdigit())\n",
        "  print (n)"
      ],
      "execution_count": 0,
      "outputs": []
    },
    {
      "cell_type": "code",
      "metadata": {
        "id": "jedfnJQyjm9q",
        "colab_type": "code",
        "colab": {}
      },
      "source": [
        "# Detectando valores numéricos e removendo caso encontrado\n",
        "data=['aaaa','bbb', 12323]\n",
        "for linha in data:\n",
        "    try:\n",
        "        int(linha)                  # Tenta converter o valor para inteiro, se OK, remove da lista\n",
        "        data.remove(linha)\n",
        "    except ValueError:              # Se der erro na conversao imprime o valor da variavel linha e continua o loop\n",
        "        print (linha)\n",
        "        pass\n",
        "\n",
        "# imprime a lista data\n",
        "data"
      ],
      "execution_count": 0,
      "outputs": []
    },
    {
      "cell_type": "markdown",
      "metadata": {
        "id": "kbDwU0dXX_SR",
        "colab_type": "text"
      },
      "source": [
        "**Instrucao While**"
      ]
    },
    {
      "cell_type": "code",
      "metadata": {
        "id": "YBwsHZ74X69Z",
        "colab_type": "code",
        "colab": {}
      },
      "source": [
        "i = 1\n",
        "while i < 6:\n",
        "  print(i)\n",
        "  i += 1"
      ],
      "execution_count": 0,
      "outputs": []
    },
    {
      "cell_type": "markdown",
      "metadata": {
        "id": "yOqA5h-_pML-",
        "colab_type": "text"
      },
      "source": [
        "### **Lambda e Funções**"
      ]
    },
    {
      "cell_type": "code",
      "metadata": {
        "id": "-dxu62tWORcR",
        "colab_type": "code",
        "colab": {}
      },
      "source": [
        "# def <nome_da_funcao> (a,b,c) :\n",
        "#   faz_algo\n",
        "# return algo"
      ],
      "execution_count": 0,
      "outputs": []
    },
    {
      "cell_type": "code",
      "metadata": {
        "id": "-tdsXU_lOqBp",
        "colab_type": "code",
        "colab": {}
      },
      "source": [
        "def minha_funcao():\n",
        "  return \"Print executado no retorno da funcao\""
      ],
      "execution_count": 0,
      "outputs": []
    },
    {
      "cell_type": "code",
      "metadata": {
        "id": "lGjX7y4gOqIA",
        "colab_type": "code",
        "colab": {}
      },
      "source": [
        "# chama a funcao\n",
        "minha_funcao()"
      ],
      "execution_count": 0,
      "outputs": []
    },
    {
      "cell_type": "code",
      "metadata": {
        "id": "HatJ01MUOqE9",
        "colab_type": "code",
        "colab": {}
      },
      "source": [
        "# recebe um parametro\n",
        "def minha_funcao(nome):\n",
        "  return (nome + \", Python é simples\")"
      ],
      "execution_count": 0,
      "outputs": []
    },
    {
      "cell_type": "code",
      "metadata": {
        "id": "kz--XldIPC_k",
        "colab_type": "code",
        "colab": {}
      },
      "source": [
        "minha_funcao('Rodrigo')"
      ],
      "execution_count": 0,
      "outputs": []
    },
    {
      "cell_type": "code",
      "metadata": {
        "id": "_GdkpQGqPDFS",
        "colab_type": "code",
        "colab": {}
      },
      "source": [
        "# funcao retorna uma lista de valores\n",
        "def multiplica_valores(valores):\n",
        "  lista_valores = []\n",
        "  for i in valores:\n",
        "    lista_valores.append(2 * i)\n",
        "  return lista_valores"
      ],
      "execution_count": 0,
      "outputs": []
    },
    {
      "cell_type": "code",
      "metadata": {
        "id": "8pZ4XXzNPDIh",
        "colab_type": "code",
        "colab": {}
      },
      "source": [
        "# cria lista de valores\n",
        "lista_valores = [2,25,100]"
      ],
      "execution_count": 0,
      "outputs": []
    },
    {
      "cell_type": "code",
      "metadata": {
        "id": "p3o91jB0xAi7",
        "colab_type": "code",
        "colab": {}
      },
      "source": [
        "# chama lista multiplica_valores\n",
        "multiplica_valores(lista_valores)"
      ],
      "execution_count": 0,
      "outputs": []
    },
    {
      "cell_type": "markdown",
      "metadata": {
        "id": "WxSYSbEvpXD-",
        "colab_type": "text"
      },
      "source": [
        "**Lambda**\n",
        "\n",
        "*  Lambda executam expressões em interators de forma anônima.\n",
        "*  Podem deixar os seus códigos e scripts complexos.\n",
        "\n"
      ]
    },
    {
      "cell_type": "code",
      "metadata": {
        "id": "0u6SZWYApXvA",
        "colab_type": "code",
        "colab": {}
      },
      "source": [
        "# cria uma expressão lambda e coloca seu conteúdo na variável soma\n",
        "soma = lambda x,y: x+y"
      ],
      "execution_count": 0,
      "outputs": []
    },
    {
      "cell_type": "code",
      "metadata": {
        "id": "E6ZPcM20Kzz1",
        "colab_type": "code",
        "colab": {}
      },
      "source": [
        "# chamando a expressão\n",
        "print (soma(1,2))"
      ],
      "execution_count": 0,
      "outputs": []
    },
    {
      "cell_type": "markdown",
      "metadata": {
        "id": "w3yemt_YYdO3",
        "colab_type": "text"
      },
      "source": [
        "**Lambda + Pandas**"
      ]
    },
    {
      "cell_type": "markdown",
      "metadata": {
        "id": "vXnuYwrn_ZZ7",
        "colab_type": "text"
      },
      "source": [
        "\n",
        "\n",
        "*   Podemos usar o lambda juntamente com pandas e outras bibliotecas\n",
        "*   Nesse exemplo queremos usar o lambda para contabilizar a frequência de termos em frases e com isso associar com as respectivas classes.\n",
        "\n"
      ]
    },
    {
      "cell_type": "code",
      "metadata": {
        "id": "Kuzv5W2TMIk9",
        "colab_type": "code",
        "colab": {}
      },
      "source": [
        "# importa o pandas\n",
        "import pandas as pd"
      ],
      "execution_count": 0,
      "outputs": []
    },
    {
      "cell_type": "code",
      "metadata": {
        "id": "AMI1Gl_cMIq8",
        "colab_type": "code",
        "colab": {}
      },
      "source": [
        "# exemplo de dados de texto\n",
        "df = pd.DataFrame([['Atendimento excelente, chega de coisa ruim no mercado','positivo'],\n",
        "                   ['Gostei muito do atendimento, estão de parabéns!!,recomendo muito!!','positivo'],\n",
        "                   ['É uma pena não ter estacionamento, isso prejudica demais!','negativo'],\n",
        "                   ['Achei que tinha estacionamento, isso quebrou minhas pernas','negativo'],\n",
        "                   ['Achei o preço salgado!.','negativo'],\n",
        "                   ['Comida muito boa, preço bom!!','positivo'],\n",
        "                   ['Preço bom e lugar aconchegante.','positivo']]\n",
        "                   , columns=['review','sentiment'])"
      ],
      "execution_count": 0,
      "outputs": []
    },
    {
      "cell_type": "code",
      "metadata": {
        "id": "pdD1iASFYzdl",
        "colab_type": "code",
        "colab": {}
      },
      "source": [
        "# imprime o dataframe pandas\n",
        "df.head()"
      ],
      "execution_count": 0,
      "outputs": []
    },
    {
      "cell_type": "code",
      "metadata": {
        "id": "WVxhdMmKKz9D",
        "colab_type": "code",
        "colab": {}
      },
      "source": [
        "# cria a função word_count\n",
        "def word_count(review, word):                         # recebe dois parametros a frase e a palavra\n",
        "    cont = 0\n",
        "    review = review.lower()                           # coloca toda a frase em minuscula\n",
        "    if word in review.lower():\n",
        "        return review.count(word)                     # se a palavra em questao existe retorna a quantidade, senao retorna 0\n",
        "    else:\n",
        "        return 0"
      ],
      "execution_count": 0,
      "outputs": []
    },
    {
      "cell_type": "code",
      "metadata": {
        "id": "50ZsVQCvAdIh",
        "colab_type": "code",
        "colab": {}
      },
      "source": [
        "# chama a funcao passando dados de exemplo\n",
        "word_count('Atendimento excelente, chega de coisa ruim no mercado','atendimento')"
      ],
      "execution_count": 0,
      "outputs": []
    },
    {
      "cell_type": "markdown",
      "metadata": {
        "id": "anuZLaqYZOEB",
        "colab_type": "text"
      },
      "source": [
        "**Criar as colunas com frequencia de termos**"
      ]
    },
    {
      "cell_type": "code",
      "metadata": {
        "id": "uj7PsMjOMIoR",
        "colab_type": "code",
        "colab": {}
      },
      "source": [
        "# a função apply() aplica algo em cada linha do dataframe\n",
        "df['atendimento'] = df['review'].apply(lambda x: word_count(x, 'atendimento'))"
      ],
      "execution_count": 0,
      "outputs": []
    },
    {
      "cell_type": "code",
      "metadata": {
        "id": "EUAjYc0rZeKd",
        "colab_type": "code",
        "colab": {}
      },
      "source": [
        "df.head()"
      ],
      "execution_count": 0,
      "outputs": []
    },
    {
      "cell_type": "code",
      "metadata": {
        "id": "1XUyWOlTZbjV",
        "colab_type": "code",
        "colab": {}
      },
      "source": [
        "# criar as colunas com o processamento do lambda e do apply()\n",
        "df['estacionamento'] = df['review'].apply(lambda x: word_count(x, 'estacionamento'))\n",
        "df['preço'] = df['review'].apply(lambda x: word_count(x, 'preço'))\n",
        "df['comida'] = df['review'].apply(lambda x: word_count(x, 'comida'))"
      ],
      "execution_count": 0,
      "outputs": []
    },
    {
      "cell_type": "code",
      "metadata": {
        "id": "yjkamnPVZhYS",
        "colab_type": "code",
        "colab": {}
      },
      "source": [
        "# imprime o dataframe\n",
        "df.head()"
      ],
      "execution_count": 0,
      "outputs": []
    },
    {
      "cell_type": "code",
      "metadata": {
        "id": "S39f8F31MRqW",
        "colab_type": "code",
        "colab": {}
      },
      "source": [
        "# Soma a frequencia de cada termo agrupado pelo sentimento\n",
        "df.groupby('sentiment')[df.columns].sum()"
      ],
      "execution_count": 0,
      "outputs": []
    },
    {
      "cell_type": "markdown",
      "metadata": {
        "id": "w3cVgK2cuGgs",
        "colab_type": "text"
      },
      "source": [
        "### Suite de Bibliotecas Python"
      ]
    },
    {
      "cell_type": "code",
      "metadata": {
        "id": "EcZtIj_EuM_j",
        "colab_type": "code",
        "colab": {}
      },
      "source": [
        "# Mostrar mapa mental"
      ],
      "execution_count": 0,
      "outputs": []
    }
  ]
}