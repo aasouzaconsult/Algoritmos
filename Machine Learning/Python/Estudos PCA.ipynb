{
 "cells": [
  {
   "cell_type": "markdown",
   "metadata": {},
   "source": [
    "## Minerando Dados\n",
    "(www.minerandodados.com.br|www.minerandodados.com.br)\n"
   ]
  },
  {
   "cell_type": "markdown",
   "metadata": {},
   "source": [
    "** Bibliotecas Utilizadas**"
   ]
  },
  {
   "cell_type": "code",
   "execution_count": 15,
   "metadata": {},
   "outputs": [],
   "source": [
    "import pandas as pd\n",
    "import numpy as np\n",
    "from sklearn.pipeline import Pipeline\n",
    "from sklearn.preprocessing import StandardScaler\n",
    "from sklearn.model_selection import cross_val_predict\n",
    "import matplotlib.pyplot as plt\n",
    "from sklearn.decomposition import PCA\n",
    "from sklearn import metrics\n",
    "from sklearn import svm"
   ]
  },
  {
   "cell_type": "markdown",
   "metadata": {},
   "source": [
    "** Dados do Spotify**"
   ]
  },
  {
   "cell_type": "code",
   "execution_count": 6,
   "metadata": {},
   "outputs": [],
   "source": [
    "dataset = pd.read_csv('C:\\scripts\\minerandodados\\cafecomcodigo\\data.csv')"
   ]
  },
  {
   "cell_type": "code",
   "execution_count": 7,
   "metadata": {},
   "outputs": [],
   "source": [
    "dataset.drop(['id','song_title'], axis=1, inplace=True)"
   ]
  },
  {
   "cell_type": "code",
   "execution_count": 8,
   "metadata": {},
   "outputs": [],
   "source": [
    "# Separa as classes dos dados\n",
    "classes = dataset.target\n",
    "dataset.drop('target', axis=1, inplace=True)"
   ]
  },
  {
   "cell_type": "markdown",
   "metadata": {},
   "source": [
    "** Teste Sem Aplica PCA**"
   ]
  },
  {
   "cell_type": "markdown",
   "metadata": {},
   "source": [
    "** LabelEncoder**"
   ]
  },
  {
   "cell_type": "code",
   "execution_count": 9,
   "metadata": {},
   "outputs": [],
   "source": [
    "from sklearn.preprocessing import LabelEncoder\n",
    "enc = LabelEncoder()\n",
    "\n",
    "# Condifica coluna artist\n",
    "inteiros = enc.fit_transform(dataset['artist'])\n",
    "dataset['artist_inteiros'] = inteiros\n",
    "\n",
    "# Dropa coluna artist\n",
    "dataset.drop('artist', axis=1, inplace=True)"
   ]
  },
  {
   "cell_type": "markdown",
   "metadata": {},
   "source": [
    "** Função Acuracia**"
   ]
  },
  {
   "cell_type": "code",
   "execution_count": 10,
   "metadata": {},
   "outputs": [],
   "source": [
    "def Acuracia(clf,X,y):\n",
    "    resultados = cross_val_predict(clf, X, y, cv=5)\n",
    "    return metrics.accuracy_score(y,resultados)"
   ]
  },
  {
   "cell_type": "markdown",
   "metadata": {},
   "source": [
    "** Criando Pipeline**"
   ]
  },
  {
   "cell_type": "code",
   "execution_count": 11,
   "metadata": {},
   "outputs": [],
   "source": [
    "pip_1 = Pipeline([\n",
    "    ('scaler',StandardScaler()),\n",
    "    ('clf', svm.SVC())\n",
    "])"
   ]
  },
  {
   "cell_type": "code",
   "execution_count": 100,
   "metadata": {},
   "outputs": [
    {
     "data": {
      "text/plain": [
       "14"
      ]
     },
     "execution_count": 100,
     "metadata": {},
     "output_type": "execute_result"
    }
   ],
   "source": [
    "# Quantidade de colunas da base\n",
    "len(dataset.columns)"
   ]
  },
  {
   "cell_type": "markdown",
   "metadata": {},
   "source": [
    "**Teste o classificador sem utilizar o PCA**"
   ]
  },
  {
   "cell_type": "code",
   "execution_count": 12,
   "metadata": {},
   "outputs": [
    {
     "data": {
      "text/plain": [
       "0.676251859196827"
      ]
     },
     "execution_count": 12,
     "metadata": {},
     "output_type": "execute_result"
    }
   ],
   "source": [
    "# Dados sem PCA\n",
    "Acuracia(pip_1,dataset,classes)"
   ]
  },
  {
   "cell_type": "markdown",
   "metadata": {},
   "source": [
    "# Aplicando o PCA nos Dados"
   ]
  },
  {
   "cell_type": "markdown",
   "metadata": {},
   "source": [
    "**Scale os dados**"
   ]
  },
  {
   "cell_type": "code",
   "execution_count": 13,
   "metadata": {},
   "outputs": [],
   "source": [
    "dt_scaler = StandardScaler().fit_transform(dataset)"
   ]
  },
  {
   "cell_type": "markdown",
   "metadata": {},
   "source": [
    "**Aplicando o PCA**"
   ]
  },
  {
   "cell_type": "code",
   "execution_count": 16,
   "metadata": {},
   "outputs": [],
   "source": [
    "pca = PCA(n_components=13)\n",
    "componentes = pca.fit_transform(dt_scaler)"
   ]
  },
  {
   "cell_type": "code",
   "execution_count": 18,
   "metadata": {},
   "outputs": [
    {
     "data": {
      "text/plain": [
       "array([[-0.28438799, -0.9450467 , -0.89317091, ..., -0.71560871,\n",
       "        -1.00466423,  0.36419457],\n",
       "       [ 1.07578864, -0.96242949, -0.29893467, ...,  1.55316398,\n",
       "        -0.86720546,  0.45179223],\n",
       "       [ 0.21497402, -1.57180393, -0.91601412, ..., -1.27365293,\n",
       "        -0.98675712,  0.08098296],\n",
       "       ...,\n",
       "       [-1.75638481,  0.60345023, -1.51584974, ...,  0.24064891,\n",
       "        -0.32655178, -0.36162342],\n",
       "       [-1.33012142,  0.91066606, -0.79536381, ..., -1.6037977 ,\n",
       "         0.57277135, -0.33982098],\n",
       "       [-1.38269659,  1.91252249, -0.55170387, ...,  0.55130427,\n",
       "         0.04188868,  0.30182106]])"
      ]
     },
     "execution_count": 18,
     "metadata": {},
     "output_type": "execute_result"
    }
   ],
   "source": [
    "componentes"
   ]
  },
  {
   "cell_type": "code",
   "execution_count": 22,
   "metadata": {},
   "outputs": [
    {
     "data": {
      "text/plain": [
       "13"
      ]
     },
     "execution_count": 22,
     "metadata": {},
     "output_type": "execute_result"
    }
   ],
   "source": [
    "# Numero de componentes\n",
    "pca.n_components_"
   ]
  },
  {
   "cell_type": "code",
   "execution_count": 23,
   "metadata": {},
   "outputs": [
    {
     "data": {
      "text/plain": [
       "2017"
      ]
     },
     "execution_count": 23,
     "metadata": {},
     "output_type": "execute_result"
    }
   ],
   "source": [
    "# Numero de amostras\n",
    "pca.n_samples_"
   ]
  },
  {
   "cell_type": "code",
   "execution_count": 98,
   "metadata": {},
   "outputs": [
    {
     "data": {
      "text/plain": [
       "array([0.20327767, 0.10896546, 0.09435611, 0.08051576, 0.07515124,\n",
       "       0.07091718, 0.06898376, 0.06370217, 0.05663948, 0.0532448 ,\n",
       "       0.04686314, 0.0381314 ])"
      ]
     },
     "execution_count": 98,
     "metadata": {},
     "output_type": "execute_result"
    }
   ],
   "source": [
    "# Imprime a taxa de variância dos componentes.\n",
    "pca.explained_variance_ratio_"
   ]
  },
  {
   "cell_type": "code",
   "execution_count": 24,
   "metadata": {},
   "outputs": [
    {
     "data": {
      "text/plain": [
       "array([20.3, 10.9,  9.4,  8.1,  7.5,  7.1,  6.9,  6.4,  5.7,  5.3,  4.7,\n",
       "        3.8,  2.7])"
      ]
     },
     "execution_count": 24,
     "metadata": {},
     "output_type": "execute_result"
    }
   ],
   "source": [
    "# Imprime a taxa de variância dos componentes em percentual\n",
    "np.round(pca.explained_variance_ratio_, decimals=3)*100"
   ]
  },
  {
   "cell_type": "code",
   "execution_count": 27,
   "metadata": {},
   "outputs": [
    {
     "data": {
      "application/javascript": [
       "/* Put everything inside the global mpl namespace */\n",
       "window.mpl = {};\n",
       "\n",
       "\n",
       "mpl.get_websocket_type = function() {\n",
       "    if (typeof(WebSocket) !== 'undefined') {\n",
       "        return WebSocket;\n",
       "    } else if (typeof(MozWebSocket) !== 'undefined') {\n",
       "        return MozWebSocket;\n",
       "    } else {\n",
       "        alert('Your browser does not have WebSocket support.' +\n",
       "              'Please try Chrome, Safari or Firefox ≥ 6. ' +\n",
       "              'Firefox 4 and 5 are also supported but you ' +\n",
       "              'have to enable WebSockets in about:config.');\n",
       "    };\n",
       "}\n",
       "\n",
       "mpl.figure = function(figure_id, websocket, ondownload, parent_element) {\n",
       "    this.id = figure_id;\n",
       "\n",
       "    this.ws = websocket;\n",
       "\n",
       "    this.supports_binary = (this.ws.binaryType != undefined);\n",
       "\n",
       "    if (!this.supports_binary) {\n",
       "        var warnings = document.getElementById(\"mpl-warnings\");\n",
       "        if (warnings) {\n",
       "            warnings.style.display = 'block';\n",
       "            warnings.textContent = (\n",
       "                \"This browser does not support binary websocket messages. \" +\n",
       "                    \"Performance may be slow.\");\n",
       "        }\n",
       "    }\n",
       "\n",
       "    this.imageObj = new Image();\n",
       "\n",
       "    this.context = undefined;\n",
       "    this.message = undefined;\n",
       "    this.canvas = undefined;\n",
       "    this.rubberband_canvas = undefined;\n",
       "    this.rubberband_context = undefined;\n",
       "    this.format_dropdown = undefined;\n",
       "\n",
       "    this.image_mode = 'full';\n",
       "\n",
       "    this.root = $('<div/>');\n",
       "    this._root_extra_style(this.root)\n",
       "    this.root.attr('style', 'display: inline-block');\n",
       "\n",
       "    $(parent_element).append(this.root);\n",
       "\n",
       "    this._init_header(this);\n",
       "    this._init_canvas(this);\n",
       "    this._init_toolbar(this);\n",
       "\n",
       "    var fig = this;\n",
       "\n",
       "    this.waiting = false;\n",
       "\n",
       "    this.ws.onopen =  function () {\n",
       "            fig.send_message(\"supports_binary\", {value: fig.supports_binary});\n",
       "            fig.send_message(\"send_image_mode\", {});\n",
       "            if (mpl.ratio != 1) {\n",
       "                fig.send_message(\"set_dpi_ratio\", {'dpi_ratio': mpl.ratio});\n",
       "            }\n",
       "            fig.send_message(\"refresh\", {});\n",
       "        }\n",
       "\n",
       "    this.imageObj.onload = function() {\n",
       "            if (fig.image_mode == 'full') {\n",
       "                // Full images could contain transparency (where diff images\n",
       "                // almost always do), so we need to clear the canvas so that\n",
       "                // there is no ghosting.\n",
       "                fig.context.clearRect(0, 0, fig.canvas.width, fig.canvas.height);\n",
       "            }\n",
       "            fig.context.drawImage(fig.imageObj, 0, 0);\n",
       "        };\n",
       "\n",
       "    this.imageObj.onunload = function() {\n",
       "        fig.ws.close();\n",
       "    }\n",
       "\n",
       "    this.ws.onmessage = this._make_on_message_function(this);\n",
       "\n",
       "    this.ondownload = ondownload;\n",
       "}\n",
       "\n",
       "mpl.figure.prototype._init_header = function() {\n",
       "    var titlebar = $(\n",
       "        '<div class=\"ui-dialog-titlebar ui-widget-header ui-corner-all ' +\n",
       "        'ui-helper-clearfix\"/>');\n",
       "    var titletext = $(\n",
       "        '<div class=\"ui-dialog-title\" style=\"width: 100%; ' +\n",
       "        'text-align: center; padding: 3px;\"/>');\n",
       "    titlebar.append(titletext)\n",
       "    this.root.append(titlebar);\n",
       "    this.header = titletext[0];\n",
       "}\n",
       "\n",
       "\n",
       "\n",
       "mpl.figure.prototype._canvas_extra_style = function(canvas_div) {\n",
       "\n",
       "}\n",
       "\n",
       "\n",
       "mpl.figure.prototype._root_extra_style = function(canvas_div) {\n",
       "\n",
       "}\n",
       "\n",
       "mpl.figure.prototype._init_canvas = function() {\n",
       "    var fig = this;\n",
       "\n",
       "    var canvas_div = $('<div/>');\n",
       "\n",
       "    canvas_div.attr('style', 'position: relative; clear: both; outline: 0');\n",
       "\n",
       "    function canvas_keyboard_event(event) {\n",
       "        return fig.key_event(event, event['data']);\n",
       "    }\n",
       "\n",
       "    canvas_div.keydown('key_press', canvas_keyboard_event);\n",
       "    canvas_div.keyup('key_release', canvas_keyboard_event);\n",
       "    this.canvas_div = canvas_div\n",
       "    this._canvas_extra_style(canvas_div)\n",
       "    this.root.append(canvas_div);\n",
       "\n",
       "    var canvas = $('<canvas/>');\n",
       "    canvas.addClass('mpl-canvas');\n",
       "    canvas.attr('style', \"left: 0; top: 0; z-index: 0; outline: 0\")\n",
       "\n",
       "    this.canvas = canvas[0];\n",
       "    this.context = canvas[0].getContext(\"2d\");\n",
       "\n",
       "    var backingStore = this.context.backingStorePixelRatio ||\n",
       "\tthis.context.webkitBackingStorePixelRatio ||\n",
       "\tthis.context.mozBackingStorePixelRatio ||\n",
       "\tthis.context.msBackingStorePixelRatio ||\n",
       "\tthis.context.oBackingStorePixelRatio ||\n",
       "\tthis.context.backingStorePixelRatio || 1;\n",
       "\n",
       "    mpl.ratio = (window.devicePixelRatio || 1) / backingStore;\n",
       "\n",
       "    var rubberband = $('<canvas/>');\n",
       "    rubberband.attr('style', \"position: absolute; left: 0; top: 0; z-index: 1;\")\n",
       "\n",
       "    var pass_mouse_events = true;\n",
       "\n",
       "    canvas_div.resizable({\n",
       "        start: function(event, ui) {\n",
       "            pass_mouse_events = false;\n",
       "        },\n",
       "        resize: function(event, ui) {\n",
       "            fig.request_resize(ui.size.width, ui.size.height);\n",
       "        },\n",
       "        stop: function(event, ui) {\n",
       "            pass_mouse_events = true;\n",
       "            fig.request_resize(ui.size.width, ui.size.height);\n",
       "        },\n",
       "    });\n",
       "\n",
       "    function mouse_event_fn(event) {\n",
       "        if (pass_mouse_events)\n",
       "            return fig.mouse_event(event, event['data']);\n",
       "    }\n",
       "\n",
       "    rubberband.mousedown('button_press', mouse_event_fn);\n",
       "    rubberband.mouseup('button_release', mouse_event_fn);\n",
       "    // Throttle sequential mouse events to 1 every 20ms.\n",
       "    rubberband.mousemove('motion_notify', mouse_event_fn);\n",
       "\n",
       "    rubberband.mouseenter('figure_enter', mouse_event_fn);\n",
       "    rubberband.mouseleave('figure_leave', mouse_event_fn);\n",
       "\n",
       "    canvas_div.on(\"wheel\", function (event) {\n",
       "        event = event.originalEvent;\n",
       "        event['data'] = 'scroll'\n",
       "        if (event.deltaY < 0) {\n",
       "            event.step = 1;\n",
       "        } else {\n",
       "            event.step = -1;\n",
       "        }\n",
       "        mouse_event_fn(event);\n",
       "    });\n",
       "\n",
       "    canvas_div.append(canvas);\n",
       "    canvas_div.append(rubberband);\n",
       "\n",
       "    this.rubberband = rubberband;\n",
       "    this.rubberband_canvas = rubberband[0];\n",
       "    this.rubberband_context = rubberband[0].getContext(\"2d\");\n",
       "    this.rubberband_context.strokeStyle = \"#000000\";\n",
       "\n",
       "    this._resize_canvas = function(width, height) {\n",
       "        // Keep the size of the canvas, canvas container, and rubber band\n",
       "        // canvas in synch.\n",
       "        canvas_div.css('width', width)\n",
       "        canvas_div.css('height', height)\n",
       "\n",
       "        canvas.attr('width', width * mpl.ratio);\n",
       "        canvas.attr('height', height * mpl.ratio);\n",
       "        canvas.attr('style', 'width: ' + width + 'px; height: ' + height + 'px;');\n",
       "\n",
       "        rubberband.attr('width', width);\n",
       "        rubberband.attr('height', height);\n",
       "    }\n",
       "\n",
       "    // Set the figure to an initial 600x600px, this will subsequently be updated\n",
       "    // upon first draw.\n",
       "    this._resize_canvas(600, 600);\n",
       "\n",
       "    // Disable right mouse context menu.\n",
       "    $(this.rubberband_canvas).bind(\"contextmenu\",function(e){\n",
       "        return false;\n",
       "    });\n",
       "\n",
       "    function set_focus () {\n",
       "        canvas.focus();\n",
       "        canvas_div.focus();\n",
       "    }\n",
       "\n",
       "    window.setTimeout(set_focus, 100);\n",
       "}\n",
       "\n",
       "mpl.figure.prototype._init_toolbar = function() {\n",
       "    var fig = this;\n",
       "\n",
       "    var nav_element = $('<div/>')\n",
       "    nav_element.attr('style', 'width: 100%');\n",
       "    this.root.append(nav_element);\n",
       "\n",
       "    // Define a callback function for later on.\n",
       "    function toolbar_event(event) {\n",
       "        return fig.toolbar_button_onclick(event['data']);\n",
       "    }\n",
       "    function toolbar_mouse_event(event) {\n",
       "        return fig.toolbar_button_onmouseover(event['data']);\n",
       "    }\n",
       "\n",
       "    for(var toolbar_ind in mpl.toolbar_items) {\n",
       "        var name = mpl.toolbar_items[toolbar_ind][0];\n",
       "        var tooltip = mpl.toolbar_items[toolbar_ind][1];\n",
       "        var image = mpl.toolbar_items[toolbar_ind][2];\n",
       "        var method_name = mpl.toolbar_items[toolbar_ind][3];\n",
       "\n",
       "        if (!name) {\n",
       "            // put a spacer in here.\n",
       "            continue;\n",
       "        }\n",
       "        var button = $('<button/>');\n",
       "        button.addClass('ui-button ui-widget ui-state-default ui-corner-all ' +\n",
       "                        'ui-button-icon-only');\n",
       "        button.attr('role', 'button');\n",
       "        button.attr('aria-disabled', 'false');\n",
       "        button.click(method_name, toolbar_event);\n",
       "        button.mouseover(tooltip, toolbar_mouse_event);\n",
       "\n",
       "        var icon_img = $('<span/>');\n",
       "        icon_img.addClass('ui-button-icon-primary ui-icon');\n",
       "        icon_img.addClass(image);\n",
       "        icon_img.addClass('ui-corner-all');\n",
       "\n",
       "        var tooltip_span = $('<span/>');\n",
       "        tooltip_span.addClass('ui-button-text');\n",
       "        tooltip_span.html(tooltip);\n",
       "\n",
       "        button.append(icon_img);\n",
       "        button.append(tooltip_span);\n",
       "\n",
       "        nav_element.append(button);\n",
       "    }\n",
       "\n",
       "    var fmt_picker_span = $('<span/>');\n",
       "\n",
       "    var fmt_picker = $('<select/>');\n",
       "    fmt_picker.addClass('mpl-toolbar-option ui-widget ui-widget-content');\n",
       "    fmt_picker_span.append(fmt_picker);\n",
       "    nav_element.append(fmt_picker_span);\n",
       "    this.format_dropdown = fmt_picker[0];\n",
       "\n",
       "    for (var ind in mpl.extensions) {\n",
       "        var fmt = mpl.extensions[ind];\n",
       "        var option = $(\n",
       "            '<option/>', {selected: fmt === mpl.default_extension}).html(fmt);\n",
       "        fmt_picker.append(option)\n",
       "    }\n",
       "\n",
       "    // Add hover states to the ui-buttons\n",
       "    $( \".ui-button\" ).hover(\n",
       "        function() { $(this).addClass(\"ui-state-hover\");},\n",
       "        function() { $(this).removeClass(\"ui-state-hover\");}\n",
       "    );\n",
       "\n",
       "    var status_bar = $('<span class=\"mpl-message\"/>');\n",
       "    nav_element.append(status_bar);\n",
       "    this.message = status_bar[0];\n",
       "}\n",
       "\n",
       "mpl.figure.prototype.request_resize = function(x_pixels, y_pixels) {\n",
       "    // Request matplotlib to resize the figure. Matplotlib will then trigger a resize in the client,\n",
       "    // which will in turn request a refresh of the image.\n",
       "    this.send_message('resize', {'width': x_pixels, 'height': y_pixels});\n",
       "}\n",
       "\n",
       "mpl.figure.prototype.send_message = function(type, properties) {\n",
       "    properties['type'] = type;\n",
       "    properties['figure_id'] = this.id;\n",
       "    this.ws.send(JSON.stringify(properties));\n",
       "}\n",
       "\n",
       "mpl.figure.prototype.send_draw_message = function() {\n",
       "    if (!this.waiting) {\n",
       "        this.waiting = true;\n",
       "        this.ws.send(JSON.stringify({type: \"draw\", figure_id: this.id}));\n",
       "    }\n",
       "}\n",
       "\n",
       "\n",
       "mpl.figure.prototype.handle_save = function(fig, msg) {\n",
       "    var format_dropdown = fig.format_dropdown;\n",
       "    var format = format_dropdown.options[format_dropdown.selectedIndex].value;\n",
       "    fig.ondownload(fig, format);\n",
       "}\n",
       "\n",
       "\n",
       "mpl.figure.prototype.handle_resize = function(fig, msg) {\n",
       "    var size = msg['size'];\n",
       "    if (size[0] != fig.canvas.width || size[1] != fig.canvas.height) {\n",
       "        fig._resize_canvas(size[0], size[1]);\n",
       "        fig.send_message(\"refresh\", {});\n",
       "    };\n",
       "}\n",
       "\n",
       "mpl.figure.prototype.handle_rubberband = function(fig, msg) {\n",
       "    var x0 = msg['x0'] / mpl.ratio;\n",
       "    var y0 = (fig.canvas.height - msg['y0']) / mpl.ratio;\n",
       "    var x1 = msg['x1'] / mpl.ratio;\n",
       "    var y1 = (fig.canvas.height - msg['y1']) / mpl.ratio;\n",
       "    x0 = Math.floor(x0) + 0.5;\n",
       "    y0 = Math.floor(y0) + 0.5;\n",
       "    x1 = Math.floor(x1) + 0.5;\n",
       "    y1 = Math.floor(y1) + 0.5;\n",
       "    var min_x = Math.min(x0, x1);\n",
       "    var min_y = Math.min(y0, y1);\n",
       "    var width = Math.abs(x1 - x0);\n",
       "    var height = Math.abs(y1 - y0);\n",
       "\n",
       "    fig.rubberband_context.clearRect(\n",
       "        0, 0, fig.canvas.width, fig.canvas.height);\n",
       "\n",
       "    fig.rubberband_context.strokeRect(min_x, min_y, width, height);\n",
       "}\n",
       "\n",
       "mpl.figure.prototype.handle_figure_label = function(fig, msg) {\n",
       "    // Updates the figure title.\n",
       "    fig.header.textContent = msg['label'];\n",
       "}\n",
       "\n",
       "mpl.figure.prototype.handle_cursor = function(fig, msg) {\n",
       "    var cursor = msg['cursor'];\n",
       "    switch(cursor)\n",
       "    {\n",
       "    case 0:\n",
       "        cursor = 'pointer';\n",
       "        break;\n",
       "    case 1:\n",
       "        cursor = 'default';\n",
       "        break;\n",
       "    case 2:\n",
       "        cursor = 'crosshair';\n",
       "        break;\n",
       "    case 3:\n",
       "        cursor = 'move';\n",
       "        break;\n",
       "    }\n",
       "    fig.rubberband_canvas.style.cursor = cursor;\n",
       "}\n",
       "\n",
       "mpl.figure.prototype.handle_message = function(fig, msg) {\n",
       "    fig.message.textContent = msg['message'];\n",
       "}\n",
       "\n",
       "mpl.figure.prototype.handle_draw = function(fig, msg) {\n",
       "    // Request the server to send over a new figure.\n",
       "    fig.send_draw_message();\n",
       "}\n",
       "\n",
       "mpl.figure.prototype.handle_image_mode = function(fig, msg) {\n",
       "    fig.image_mode = msg['mode'];\n",
       "}\n",
       "\n",
       "mpl.figure.prototype.updated_canvas_event = function() {\n",
       "    // Called whenever the canvas gets updated.\n",
       "    this.send_message(\"ack\", {});\n",
       "}\n",
       "\n",
       "// A function to construct a web socket function for onmessage handling.\n",
       "// Called in the figure constructor.\n",
       "mpl.figure.prototype._make_on_message_function = function(fig) {\n",
       "    return function socket_on_message(evt) {\n",
       "        if (evt.data instanceof Blob) {\n",
       "            /* FIXME: We get \"Resource interpreted as Image but\n",
       "             * transferred with MIME type text/plain:\" errors on\n",
       "             * Chrome.  But how to set the MIME type?  It doesn't seem\n",
       "             * to be part of the websocket stream */\n",
       "            evt.data.type = \"image/png\";\n",
       "\n",
       "            /* Free the memory for the previous frames */\n",
       "            if (fig.imageObj.src) {\n",
       "                (window.URL || window.webkitURL).revokeObjectURL(\n",
       "                    fig.imageObj.src);\n",
       "            }\n",
       "\n",
       "            fig.imageObj.src = (window.URL || window.webkitURL).createObjectURL(\n",
       "                evt.data);\n",
       "            fig.updated_canvas_event();\n",
       "            fig.waiting = false;\n",
       "            return;\n",
       "        }\n",
       "        else if (typeof evt.data === 'string' && evt.data.slice(0, 21) == \"data:image/png;base64\") {\n",
       "            fig.imageObj.src = evt.data;\n",
       "            fig.updated_canvas_event();\n",
       "            fig.waiting = false;\n",
       "            return;\n",
       "        }\n",
       "\n",
       "        var msg = JSON.parse(evt.data);\n",
       "        var msg_type = msg['type'];\n",
       "\n",
       "        // Call the  \"handle_{type}\" callback, which takes\n",
       "        // the figure and JSON message as its only arguments.\n",
       "        try {\n",
       "            var callback = fig[\"handle_\" + msg_type];\n",
       "        } catch (e) {\n",
       "            console.log(\"No handler for the '\" + msg_type + \"' message type: \", msg);\n",
       "            return;\n",
       "        }\n",
       "\n",
       "        if (callback) {\n",
       "            try {\n",
       "                // console.log(\"Handling '\" + msg_type + \"' message: \", msg);\n",
       "                callback(fig, msg);\n",
       "            } catch (e) {\n",
       "                console.log(\"Exception inside the 'handler_\" + msg_type + \"' callback:\", e, e.stack, msg);\n",
       "            }\n",
       "        }\n",
       "    };\n",
       "}\n",
       "\n",
       "// from http://stackoverflow.com/questions/1114465/getting-mouse-location-in-canvas\n",
       "mpl.findpos = function(e) {\n",
       "    //this section is from http://www.quirksmode.org/js/events_properties.html\n",
       "    var targ;\n",
       "    if (!e)\n",
       "        e = window.event;\n",
       "    if (e.target)\n",
       "        targ = e.target;\n",
       "    else if (e.srcElement)\n",
       "        targ = e.srcElement;\n",
       "    if (targ.nodeType == 3) // defeat Safari bug\n",
       "        targ = targ.parentNode;\n",
       "\n",
       "    // jQuery normalizes the pageX and pageY\n",
       "    // pageX,Y are the mouse positions relative to the document\n",
       "    // offset() returns the position of the element relative to the document\n",
       "    var x = e.pageX - $(targ).offset().left;\n",
       "    var y = e.pageY - $(targ).offset().top;\n",
       "\n",
       "    return {\"x\": x, \"y\": y};\n",
       "};\n",
       "\n",
       "/*\n",
       " * return a copy of an object with only non-object keys\n",
       " * we need this to avoid circular references\n",
       " * http://stackoverflow.com/a/24161582/3208463\n",
       " */\n",
       "function simpleKeys (original) {\n",
       "  return Object.keys(original).reduce(function (obj, key) {\n",
       "    if (typeof original[key] !== 'object')\n",
       "        obj[key] = original[key]\n",
       "    return obj;\n",
       "  }, {});\n",
       "}\n",
       "\n",
       "mpl.figure.prototype.mouse_event = function(event, name) {\n",
       "    var canvas_pos = mpl.findpos(event)\n",
       "\n",
       "    if (name === 'button_press')\n",
       "    {\n",
       "        this.canvas.focus();\n",
       "        this.canvas_div.focus();\n",
       "    }\n",
       "\n",
       "    var x = canvas_pos.x * mpl.ratio;\n",
       "    var y = canvas_pos.y * mpl.ratio;\n",
       "\n",
       "    this.send_message(name, {x: x, y: y, button: event.button,\n",
       "                             step: event.step,\n",
       "                             guiEvent: simpleKeys(event)});\n",
       "\n",
       "    /* This prevents the web browser from automatically changing to\n",
       "     * the text insertion cursor when the button is pressed.  We want\n",
       "     * to control all of the cursor setting manually through the\n",
       "     * 'cursor' event from matplotlib */\n",
       "    event.preventDefault();\n",
       "    return false;\n",
       "}\n",
       "\n",
       "mpl.figure.prototype._key_event_extra = function(event, name) {\n",
       "    // Handle any extra behaviour associated with a key event\n",
       "}\n",
       "\n",
       "mpl.figure.prototype.key_event = function(event, name) {\n",
       "\n",
       "    // Prevent repeat events\n",
       "    if (name == 'key_press')\n",
       "    {\n",
       "        if (event.which === this._key)\n",
       "            return;\n",
       "        else\n",
       "            this._key = event.which;\n",
       "    }\n",
       "    if (name == 'key_release')\n",
       "        this._key = null;\n",
       "\n",
       "    var value = '';\n",
       "    if (event.ctrlKey && event.which != 17)\n",
       "        value += \"ctrl+\";\n",
       "    if (event.altKey && event.which != 18)\n",
       "        value += \"alt+\";\n",
       "    if (event.shiftKey && event.which != 16)\n",
       "        value += \"shift+\";\n",
       "\n",
       "    value += 'k';\n",
       "    value += event.which.toString();\n",
       "\n",
       "    this._key_event_extra(event, name);\n",
       "\n",
       "    this.send_message(name, {key: value,\n",
       "                             guiEvent: simpleKeys(event)});\n",
       "    return false;\n",
       "}\n",
       "\n",
       "mpl.figure.prototype.toolbar_button_onclick = function(name) {\n",
       "    if (name == 'download') {\n",
       "        this.handle_save(this, null);\n",
       "    } else {\n",
       "        this.send_message(\"toolbar_button\", {name: name});\n",
       "    }\n",
       "};\n",
       "\n",
       "mpl.figure.prototype.toolbar_button_onmouseover = function(tooltip) {\n",
       "    this.message.textContent = tooltip;\n",
       "};\n",
       "mpl.toolbar_items = [[\"Home\", \"Reset original view\", \"fa fa-home icon-home\", \"home\"], [\"Back\", \"Back to  previous view\", \"fa fa-arrow-left icon-arrow-left\", \"back\"], [\"Forward\", \"Forward to next view\", \"fa fa-arrow-right icon-arrow-right\", \"forward\"], [\"\", \"\", \"\", \"\"], [\"Pan\", \"Pan axes with left mouse, zoom with right\", \"fa fa-arrows icon-move\", \"pan\"], [\"Zoom\", \"Zoom to rectangle\", \"fa fa-square-o icon-check-empty\", \"zoom\"], [\"\", \"\", \"\", \"\"], [\"Download\", \"Download plot\", \"fa fa-floppy-o icon-save\", \"download\"]];\n",
       "\n",
       "mpl.extensions = [\"eps\", \"jpeg\", \"pdf\", \"png\", \"ps\", \"raw\", \"svg\", \"tif\"];\n",
       "\n",
       "mpl.default_extension = \"png\";var comm_websocket_adapter = function(comm) {\n",
       "    // Create a \"websocket\"-like object which calls the given IPython comm\n",
       "    // object with the appropriate methods. Currently this is a non binary\n",
       "    // socket, so there is still some room for performance tuning.\n",
       "    var ws = {};\n",
       "\n",
       "    ws.close = function() {\n",
       "        comm.close()\n",
       "    };\n",
       "    ws.send = function(m) {\n",
       "        //console.log('sending', m);\n",
       "        comm.send(m);\n",
       "    };\n",
       "    // Register the callback with on_msg.\n",
       "    comm.on_msg(function(msg) {\n",
       "        //console.log('receiving', msg['content']['data'], msg);\n",
       "        // Pass the mpl event to the overriden (by mpl) onmessage function.\n",
       "        ws.onmessage(msg['content']['data'])\n",
       "    });\n",
       "    return ws;\n",
       "}\n",
       "\n",
       "mpl.mpl_figure_comm = function(comm, msg) {\n",
       "    // This is the function which gets called when the mpl process\n",
       "    // starts-up an IPython Comm through the \"matplotlib\" channel.\n",
       "\n",
       "    var id = msg.content.data.id;\n",
       "    // Get hold of the div created by the display call when the Comm\n",
       "    // socket was opened in Python.\n",
       "    var element = $(\"#\" + id);\n",
       "    var ws_proxy = comm_websocket_adapter(comm)\n",
       "\n",
       "    function ondownload(figure, format) {\n",
       "        window.open(figure.imageObj.src);\n",
       "    }\n",
       "\n",
       "    var fig = new mpl.figure(id, ws_proxy,\n",
       "                           ondownload,\n",
       "                           element.get(0));\n",
       "\n",
       "    // Call onopen now - mpl needs it, as it is assuming we've passed it a real\n",
       "    // web socket which is closed, not our websocket->open comm proxy.\n",
       "    ws_proxy.onopen();\n",
       "\n",
       "    fig.parent_element = element.get(0);\n",
       "    fig.cell_info = mpl.find_output_cell(\"<div id='\" + id + \"'></div>\");\n",
       "    if (!fig.cell_info) {\n",
       "        console.error(\"Failed to find cell for figure\", id, fig);\n",
       "        return;\n",
       "    }\n",
       "\n",
       "    var output_index = fig.cell_info[2]\n",
       "    var cell = fig.cell_info[0];\n",
       "\n",
       "};\n",
       "\n",
       "mpl.figure.prototype.handle_close = function(fig, msg) {\n",
       "    var width = fig.canvas.width/mpl.ratio\n",
       "    fig.root.unbind('remove')\n",
       "\n",
       "    // Update the output cell to use the data from the current canvas.\n",
       "    fig.push_to_output();\n",
       "    var dataURL = fig.canvas.toDataURL();\n",
       "    // Re-enable the keyboard manager in IPython - without this line, in FF,\n",
       "    // the notebook keyboard shortcuts fail.\n",
       "    IPython.keyboard_manager.enable()\n",
       "    $(fig.parent_element).html('<img src=\"' + dataURL + '\" width=\"' + width + '\">');\n",
       "    fig.close_ws(fig, msg);\n",
       "}\n",
       "\n",
       "mpl.figure.prototype.close_ws = function(fig, msg){\n",
       "    fig.send_message('closing', msg);\n",
       "    // fig.ws.close()\n",
       "}\n",
       "\n",
       "mpl.figure.prototype.push_to_output = function(remove_interactive) {\n",
       "    // Turn the data on the canvas into data in the output cell.\n",
       "    var width = this.canvas.width/mpl.ratio\n",
       "    var dataURL = this.canvas.toDataURL();\n",
       "    this.cell_info[1]['text/html'] = '<img src=\"' + dataURL + '\" width=\"' + width + '\">';\n",
       "}\n",
       "\n",
       "mpl.figure.prototype.updated_canvas_event = function() {\n",
       "    // Tell IPython that the notebook contents must change.\n",
       "    IPython.notebook.set_dirty(true);\n",
       "    this.send_message(\"ack\", {});\n",
       "    var fig = this;\n",
       "    // Wait a second, then push the new image to the DOM so\n",
       "    // that it is saved nicely (might be nice to debounce this).\n",
       "    setTimeout(function () { fig.push_to_output() }, 1000);\n",
       "}\n",
       "\n",
       "mpl.figure.prototype._init_toolbar = function() {\n",
       "    var fig = this;\n",
       "\n",
       "    var nav_element = $('<div/>')\n",
       "    nav_element.attr('style', 'width: 100%');\n",
       "    this.root.append(nav_element);\n",
       "\n",
       "    // Define a callback function for later on.\n",
       "    function toolbar_event(event) {\n",
       "        return fig.toolbar_button_onclick(event['data']);\n",
       "    }\n",
       "    function toolbar_mouse_event(event) {\n",
       "        return fig.toolbar_button_onmouseover(event['data']);\n",
       "    }\n",
       "\n",
       "    for(var toolbar_ind in mpl.toolbar_items){\n",
       "        var name = mpl.toolbar_items[toolbar_ind][0];\n",
       "        var tooltip = mpl.toolbar_items[toolbar_ind][1];\n",
       "        var image = mpl.toolbar_items[toolbar_ind][2];\n",
       "        var method_name = mpl.toolbar_items[toolbar_ind][3];\n",
       "\n",
       "        if (!name) { continue; };\n",
       "\n",
       "        var button = $('<button class=\"btn btn-default\" href=\"#\" title=\"' + name + '\"><i class=\"fa ' + image + ' fa-lg\"></i></button>');\n",
       "        button.click(method_name, toolbar_event);\n",
       "        button.mouseover(tooltip, toolbar_mouse_event);\n",
       "        nav_element.append(button);\n",
       "    }\n",
       "\n",
       "    // Add the status bar.\n",
       "    var status_bar = $('<span class=\"mpl-message\" style=\"text-align:right; float: right;\"/>');\n",
       "    nav_element.append(status_bar);\n",
       "    this.message = status_bar[0];\n",
       "\n",
       "    // Add the close button to the window.\n",
       "    var buttongrp = $('<div class=\"btn-group inline pull-right\"></div>');\n",
       "    var button = $('<button class=\"btn btn-mini btn-primary\" href=\"#\" title=\"Stop Interaction\"><i class=\"fa fa-power-off icon-remove icon-large\"></i></button>');\n",
       "    button.click(function (evt) { fig.handle_close(fig, {}); } );\n",
       "    button.mouseover('Stop Interaction', toolbar_mouse_event);\n",
       "    buttongrp.append(button);\n",
       "    var titlebar = this.root.find($('.ui-dialog-titlebar'));\n",
       "    titlebar.prepend(buttongrp);\n",
       "}\n",
       "\n",
       "mpl.figure.prototype._root_extra_style = function(el){\n",
       "    var fig = this\n",
       "    el.on(\"remove\", function(){\n",
       "\tfig.close_ws(fig, {});\n",
       "    });\n",
       "}\n",
       "\n",
       "mpl.figure.prototype._canvas_extra_style = function(el){\n",
       "    // this is important to make the div 'focusable\n",
       "    el.attr('tabindex', 0)\n",
       "    // reach out to IPython and tell the keyboard manager to turn it's self\n",
       "    // off when our div gets focus\n",
       "\n",
       "    // location in version 3\n",
       "    if (IPython.notebook.keyboard_manager) {\n",
       "        IPython.notebook.keyboard_manager.register_events(el);\n",
       "    }\n",
       "    else {\n",
       "        // location in version 2\n",
       "        IPython.keyboard_manager.register_events(el);\n",
       "    }\n",
       "\n",
       "}\n",
       "\n",
       "mpl.figure.prototype._key_event_extra = function(event, name) {\n",
       "    var manager = IPython.notebook.keyboard_manager;\n",
       "    if (!manager)\n",
       "        manager = IPython.keyboard_manager;\n",
       "\n",
       "    // Check for shift+enter\n",
       "    if (event.shiftKey && event.which == 13) {\n",
       "        this.canvas_div.blur();\n",
       "        event.shiftKey = false;\n",
       "        // Send a \"J\" for go to next cell\n",
       "        event.which = 74;\n",
       "        event.keyCode = 74;\n",
       "        manager.command_mode();\n",
       "        manager.handle_keydown(event);\n",
       "    }\n",
       "}\n",
       "\n",
       "mpl.figure.prototype.handle_save = function(fig, msg) {\n",
       "    fig.ondownload(fig, null);\n",
       "}\n",
       "\n",
       "\n",
       "mpl.find_output_cell = function(html_output) {\n",
       "    // Return the cell and output element which can be found *uniquely* in the notebook.\n",
       "    // Note - this is a bit hacky, but it is done because the \"notebook_saving.Notebook\"\n",
       "    // IPython event is triggered only after the cells have been serialised, which for\n",
       "    // our purposes (turning an active figure into a static one), is too late.\n",
       "    var cells = IPython.notebook.get_cells();\n",
       "    var ncells = cells.length;\n",
       "    for (var i=0; i<ncells; i++) {\n",
       "        var cell = cells[i];\n",
       "        if (cell.cell_type === 'code'){\n",
       "            for (var j=0; j<cell.output_area.outputs.length; j++) {\n",
       "                var data = cell.output_area.outputs[j];\n",
       "                if (data.data) {\n",
       "                    // IPython >= 3 moved mimebundle to data attribute of output\n",
       "                    data = data.data;\n",
       "                }\n",
       "                if (data['text/html'] == html_output) {\n",
       "                    return [cell, data, j];\n",
       "                }\n",
       "            }\n",
       "        }\n",
       "    }\n",
       "}\n",
       "\n",
       "// Register the function which deals with the matplotlib target/channel.\n",
       "// The kernel may be null if the page has been refreshed.\n",
       "if (IPython.notebook.kernel != null) {\n",
       "    IPython.notebook.kernel.comm_manager.register_target('matplotlib', mpl.mpl_figure_comm);\n",
       "}\n"
      ],
      "text/plain": [
       "<IPython.core.display.Javascript object>"
      ]
     },
     "metadata": {},
     "output_type": "display_data"
    },
    {
     "data": {
      "text/html": [
       "<img src=\"data:image/png;base64,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\" width=\"640\">"
      ],
      "text/plain": [
       "<IPython.core.display.HTML object>"
      ]
     },
     "metadata": {},
     "output_type": "display_data"
    },
    {
     "data": {
      "text/plain": [
       "[<matplotlib.lines.Line2D at 0x1f2ab04d358>]"
      ]
     },
     "execution_count": 27,
     "metadata": {},
     "output_type": "execute_result"
    }
   ],
   "source": [
    "# Plota Variância por número de Componentes.\n",
    "%matplotlib notebook\n",
    "plt.ylabel('% Variance Explained')\n",
    "plt.xlabel('# of Features')\n",
    "plt.title('PCA Analysis')\n",
    "plt.ylim(30,100.5)\n",
    "var=np.cumsum(np.round(pca.explained_variance_ratio_, decimals=3)*100)\n",
    "plt.plot(var, color=\"red\")"
   ]
  },
  {
   "cell_type": "markdown",
   "metadata": {},
   "source": [
    "# Testando a Acurácia com PCA"
   ]
  },
  {
   "cell_type": "code",
   "execution_count": 28,
   "metadata": {},
   "outputs": [
    {
     "data": {
      "text/plain": [
       "0.6807139315815568"
      ]
     },
     "execution_count": 28,
     "metadata": {},
     "output_type": "execute_result"
    }
   ],
   "source": [
    "Acuracia(pip_1,componentes,classes)"
   ]
  },
  {
   "cell_type": "code",
   "execution_count": 30,
   "metadata": {},
   "outputs": [],
   "source": [
    "# Testando o PCA com 8 componentes:\n",
    "pca = PCA(n_components=8)\n",
    "componentes = pca.fit_transform(dt_scaler)"
   ]
  },
  {
   "cell_type": "code",
   "execution_count": 31,
   "metadata": {},
   "outputs": [
    {
     "data": {
      "text/plain": [
       "0.6281606346058503"
      ]
     },
     "execution_count": 31,
     "metadata": {},
     "output_type": "execute_result"
    }
   ],
   "source": [
    "# Testando a acurácia:\n",
    "Acuracia(pip_1,componentes,classes)"
   ]
  },
  {
   "cell_type": "markdown",
   "metadata": {},
   "source": [
    "# PCA como Features para o Modelo"
   ]
  },
  {
   "cell_type": "code",
   "execution_count": 32,
   "metadata": {},
   "outputs": [],
   "source": [
    "# Testando o PCA com 2 componentes:\n",
    "pca = PCA(n_components=2)\n",
    "features = pca.fit_transform(dt_scaler)"
   ]
  },
  {
   "cell_type": "code",
   "execution_count": 33,
   "metadata": {},
   "outputs": [
    {
     "data": {
      "text/plain": [
       "array([[-0.28409836, -0.94443422],\n",
       "       [ 1.07669602, -0.95923234],\n",
       "       [ 0.21502172, -1.57159199],\n",
       "       ...,\n",
       "       [-1.75681974,  0.60186215],\n",
       "       [-1.33126548,  0.90618335],\n",
       "       [-1.38228805,  1.91371337]])"
      ]
     },
     "execution_count": 33,
     "metadata": {},
     "output_type": "execute_result"
    }
   ],
   "source": [
    "# 2 componentes\n",
    "features"
   ]
  },
  {
   "cell_type": "code",
   "execution_count": 53,
   "metadata": {},
   "outputs": [],
   "source": [
    "# Transforma os objetos em dataframes.\n",
    "dt_scaler = pd.DataFrame(dt_scaler)\n",
    "features = pd.DataFrame(features)\n",
    "\n",
    "# Concatena o Dataframe final\n",
    "dt_scaler = pd.concat([dt_scaler,features], axis=1)"
   ]
  },
  {
   "cell_type": "code",
   "execution_count": 58,
   "metadata": {},
   "outputs": [
    {
     "data": {
      "text/plain": [
       "16"
      ]
     },
     "execution_count": 58,
     "metadata": {},
     "output_type": "execute_result"
    }
   ],
   "source": [
    "# Quantidade de colunas\n",
    "len(dt_scaler.columns)"
   ]
  },
  {
   "cell_type": "code",
   "execution_count": 59,
   "metadata": {},
   "outputs": [
    {
     "data": {
      "text/plain": [
       "0.6737729300941993"
      ]
     },
     "execution_count": 59,
     "metadata": {},
     "output_type": "execute_result"
    }
   ],
   "source": [
    "# Testando a acurácia:\n",
    "Acuracia(pip_1,dt_scaler,classes)"
   ]
  },
  {
   "cell_type": "code",
   "execution_count": null,
   "metadata": {},
   "outputs": [],
   "source": []
  }
 ],
 "metadata": {
  "kernelspec": {
   "display_name": "Python 3",
   "language": "python",
   "name": "python3"
  },
  "language_info": {
   "codemirror_mode": {
    "name": "ipython",
    "version": 3
   },
   "file_extension": ".py",
   "mimetype": "text/x-python",
   "name": "python",
   "nbconvert_exporter": "python",
   "pygments_lexer": "ipython3",
   "version": "3.6.4"
  }
 },
 "nbformat": 4,
 "nbformat_minor": 2
}
